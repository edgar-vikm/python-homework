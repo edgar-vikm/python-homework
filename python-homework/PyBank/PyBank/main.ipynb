{
 "cells": [
  {
   "cell_type": "code",
   "execution_count": 49,
   "metadata": {},
   "outputs": [],
   "source": [
    "## set a metric , create a dictionary of lists of the months and profit/loss.\n",
    "count=0\n",
    "maximum=0\n",
    "minimum=0\n",
    "profit=0\n",
    "loss=0\n",
    "total=0"
   ]
  },
  {
   "cell_type": "code",
   "execution_count": 248,
   "metadata": {},
   "outputs": [
    {
     "name": "stdout",
     "output_type": "stream",
     "text": [
      "\n",
      "dictionary: {'Jan-2010': 867884, 'Feb-2010': 984655, 'Mar-2010': 322013, 'Apr-2010': -69417, 'May-2010': 310503, 'Jun-2010': 522857, 'Jul-2010': 1033096, 'Aug-2010': 604885, 'Sep-2010': -216386, 'Oct-2010': 477532, 'Nov-2010': 893810, 'Dec-2010': -80353, 'Jan-2011': 779806, 'Feb-2011': -335203, 'Mar-2011': 697845, 'Apr-2011': 793163, 'May-2011': 485070, 'Jun-2011': 584122, 'Jul-2011': 62729, 'Aug-2011': 668179, 'Sep-2011': 899906, 'Oct-2011': 834719, 'Nov-2011': 132003, 'Dec-2011': 309978, 'Jan-2012': -755566, 'Feb-2012': 1170593, 'Mar-2012': 252788, 'Apr-2012': 1151518, 'May-2012': 817256, 'Jun-2012': 570757, 'Jul-2012': 506702, 'Aug-2012': -1022534, 'Sep-2012': 475062, 'Oct-2012': 779976, 'Nov-2012': 144175, 'Dec-2012': 542494, 'Jan-2013': 359333, 'Feb-2013': 321469, 'Mar-2013': 67780, 'Apr-2013': 471435, 'May-2013': 565603, 'Jun-2013': 872480, 'Jul-2013': 789480, 'Aug-2013': 999942, 'Sep-2013': -1196225, 'Oct-2013': 268997, 'Nov-2013': -687986, 'Dec-2013': 1150461, 'Jan-2014': 682458, 'Feb-2014': 617856, 'Mar-2014': 824098, 'Apr-2014': 581943, 'May-2014': 132864, 'Jun-2014': 448062, 'Jul-2014': 689161, 'Aug-2014': 800701, 'Sep-2014': 1166643, 'Oct-2014': 947333, 'Nov-2014': 578668, 'Dec-2014': 988505, 'Jan-2015': 1139715, 'Feb-2015': 1029471, 'Mar-2015': 687533, 'Apr-2015': -524626, 'May-2015': 158620, 'Jun-2015': 87795, 'Jul-2015': 423389, 'Aug-2015': 840723, 'Sep-2015': 568529, 'Oct-2015': 332067, 'Nov-2015': 989499, 'Dec-2015': 778237, 'Jan-2016': 650000, 'Feb-2016': -1100387, 'Mar-2016': -174946, 'Apr-2016': 757143, 'May-2016': 445709, 'Jun-2016': 712961, 'Jul-2016': -1163797, 'Aug-2016': 569899, 'Sep-2016': 768450, 'Oct-2016': 102685, 'Nov-2016': 795914, 'Dec-2016': 60988, 'Jan-2017': 138230, 'Feb-2017': 671099}\n"
     ]
    }
   ],
   "source": [
    "# key is set by month:value\n",
    "budget_data = {\n",
    "              \"Jan-2010\": 867884,\n",
    "              \"Feb-2010\": 984655,\n",
    "               \"Mar-2010\": 322013,\n",
    "               \"Apr-2010\": -69417,\n",
    "               \"May-2010\": 310503,\n",
    "               \"Jun-2010\": 522857,\n",
    "               \"Jul-2010\": 1033096,\n",
    "               \"Aug-2010\": 604885,\n",
    "              \"Sep-2010\": -216386,\n",
    "              \"Oct-2010\": 477532,\n",
    "               \"Nov-2010\": 893810,\n",
    "               \"Dec-2010\": -80353,\n",
    "               \"Jan-2011\": 779806,\n",
    "               \"Feb-2011\": -335203,\n",
    "               \"Mar-2011\": 697845,\n",
    "               \"Apr-2011\": 793163,\n",
    "               \"May-2011\": 485070,\n",
    "               \"Jun-2011\": 584122,\n",
    "               \"Jul-2011\": 62729,\n",
    "               \"Aug-2011\": 668179,               \n",
    "               \"Sep-2011\": 899906,\n",
    "               \"Oct-2011\": 834719,\n",
    "               \"Nov-2011\": 132003,\n",
    "               \"Dec-2011\": 309978,\n",
    "               \"Jan-2012\": -755566,\n",
    "               \"Feb-2012\": 1170593,\n",
    "               \"Mar-2012\": 252788,\n",
    "               \"Apr-2012\": 1151518,\n",
    "               \"May-2012\": 817256,\n",
    "               \"Jun-2012\": 570757,\n",
    "               \"Jul-2012\": 506702,\n",
    "               \"Aug-2012\": -1022534,\n",
    "               \"Sep-2012\": 475062,\n",
    "               \"Oct-2012\": 779976,\n",
    "               \"Nov-2012\": 144175,\n",
    "               \"Dec-2012\": 542494,\n",
    "               \"Jan-2013\": 359333,\n",
    "               \"Feb-2013\": 321469,\n",
    "               \"Mar-2013\": 67780,\n",
    "               \"Apr-2013\": 471435,\n",
    "               \"May-2013\": 565603,\n",
    "               \"Jun-2013\": 872480,\n",
    "               \"Jul-2013\": 789480,\n",
    "               \"Aug-2013\": 999942,\n",
    "               \"Sep-2013\": -1196225,\n",
    "               \"Oct-2013\": 268997,\n",
    "               \"Nov-2013\": -687986,\n",
    "               \"Dec-2013\": 1150461,\n",
    "               \"Jan-2014\": 682458,\n",
    "               \"Feb-2014\": 617856,\n",
    "               \"Mar-2014\": 824098,\n",
    "               \"Apr-2014\": 581943,\n",
    "               \"May-2014\": 132864,\n",
    "               \"Jun-2014\": 448062,\n",
    "              \"Jul-2014\": 689161,\n",
    "               \"Aug-2014\": 800701,\n",
    "               \"Sep-2014\": 1166643,\n",
    "               \"Oct-2014\": 947333,\n",
    "               \"Nov-2014\": 578668,\n",
    "              \"Dec-2014\": 988505,\n",
    "               \"Jan-2015\": 1139715,\n",
    "               \"Feb-2015\": 1029471,\n",
    "               \"Mar-2015\": 687533,\n",
    "               \"Apr-2015\": -524626,\n",
    "               \"May-2015\": 158620,\n",
    "               \"Jun-2015\": 87795,\n",
    "               \"Jul-2015\": 423389,\n",
    "               \"Aug-2015\": 840723,\n",
    "               \"Sep-2015\": 568529,\n",
    "               \"Oct-2015\": 332067,\n",
    "               \"Nov-2015\": 989499,\n",
    "               \"Dec-2015\": 778237,\n",
    "               \"Jan-2016\": 650000,\n",
    "               \"Feb-2016\": -1100387,\n",
    "               \"Mar-2016\": -174946,\n",
    "               \"Apr-2016\": 757143,\n",
    "               \"May-2016\": 445709,\n",
    "               \"Jun-2016\": 712961,\n",
    "               \"Jul-2016\": -1163797,\n",
    "               \"Aug-2016\": 569899,\n",
    "               \"Sep-2016\": 768450,\n",
    "               \"Oct-2016\": 102685,\n",
    "               \"Nov-2016\": 795914,\n",
    "               \"Dec-2016\": 60988,\n",
    "               \"Jan-2017\": 138230,\n",
    "               \"Feb-2017\": 671099\n",
    "               \n",
    "              \n",
    "              \n",
    "              \n",
    "              }\n",
    "print()\n",
    "print(f\"dictionary: {budget_data}\")\n",
    "xenox=len(budget_data)"
   ]
  },
  {
   "cell_type": "code",
   "execution_count": 249,
   "metadata": {},
   "outputs": [
    {
     "name": "stdout",
     "output_type": "stream",
     "text": [
      "dict_values([867884, 984655, 322013, -69417, 310503, 522857, 1033096, 604885, -216386, 477532, 893810, -80353, 779806, -335203, 697845, 793163, 485070, 584122, 62729, 668179, 899906, 834719, 132003, 309978, -755566, 1170593, 252788, 1151518, 817256, 570757, 506702, -1022534, 475062, 779976, 144175, 542494, 359333, 321469, 67780, 471435, 565603, 872480, 789480, 999942, -1196225, 268997, -687986, 1150461, 682458, 617856, 824098, 581943, 132864, 448062, 689161, 800701, 1166643, 947333, 578668, 988505, 1139715, 1029471, 687533, -524626, 158620, 87795, 423389, 840723, 568529, 332067, 989499, 778237, 650000, -1100387, -174946, 757143, 445709, 712961, -1163797, 569899, 768450, 102685, 795914, 60988, 138230, 671099])\n",
      "86\n"
     ]
    }
   ],
   "source": [
    "monthly_values= budget_data.values()\n",
    "print(monthly_values)\n",
    "print(meses)"
   ]
  },
  {
   "cell_type": "code",
   "execution_count": 250,
   "metadata": {},
   "outputs": [
    {
     "name": "stdout",
     "output_type": "stream",
     "text": [
      "38382578\n"
     ]
    }
   ],
   "source": [
    "net_total= int(sum(monthly_values))\n",
    "print(net_total)"
   ]
  },
  {
   "cell_type": "code",
   "execution_count": 251,
   "metadata": {},
   "outputs": [
    {
     "name": "stdout",
     "output_type": "stream",
     "text": [
      "Net total is : 38382578$\n"
     ]
    }
   ],
   "source": [
    "print(f\"Net total is : {net_total}$\")"
   ]
  },
  {
   "cell_type": "code",
   "execution_count": 252,
   "metadata": {},
   "outputs": [
    {
     "name": "stdout",
     "output_type": "stream",
     "text": [
      "1170593\n"
     ]
    }
   ],
   "source": [
    "key_max= max(monthly_values)\n",
    "print(key_max)\n"
   ]
  },
  {
   "cell_type": "code",
   "execution_count": 253,
   "metadata": {},
   "outputs": [
    {
     "name": "stdout",
     "output_type": "stream",
     "text": [
      "867884\n",
      "Jan-2010\n"
     ]
    }
   ],
   "source": [
    "first_value=budget_data[first_month]\n",
    "print(first_value)\n",
    "first_month= list(budget_data.keys())[0]\n",
    "print(first_month)"
   ]
  },
  {
   "cell_type": "code",
   "execution_count": 254,
   "metadata": {},
   "outputs": [
    {
     "name": "stdout",
     "output_type": "stream",
     "text": [
      "-2315.1176470588234\n",
      "1926159\n",
      "-2196167\n",
      "Sep-2013\n",
      "Feb-2012\n"
     ]
    }
   ],
   "source": [
    "max_increase=0\n",
    "max_decrease=0\n",
    "total_change=0\n",
    "previous_month=first_value\n",
    "del budget_data[first_month]\n",
    "for month,data in (budget_data.items()):\n",
    "    current_change= data-previous_month\n",
    "    total_change+=current_change\n",
    "    previous_month= data\n",
    "    if current_change > max_increase:\n",
    "        max_month= month\n",
    "        max_increase = current_change\n",
    "    elif current_change < max_decrease:\n",
    "        lowest_month= month\n",
    "        max_decrease = current_change \n",
    "            \n",
    "\n",
    "avr_change= (total_change/len(budget_data))\n",
    "print(total_change / len(budget_data))\n",
    "print(max_increase)\n",
    "print(max_decrease)\n",
    "print(lowest_month)\n",
    "print(max_month)\n"
   ]
  },
  {
   "cell_type": "code",
   "execution_count": 259,
   "metadata": {},
   "outputs": [
    {
     "name": "stdout",
     "output_type": "stream",
     "text": [
      "Financial Analysis\n",
      "-------------------\n",
      "Total months : 86\n",
      "Net total is : 38382578$\n",
      "What was the average change: -2315.1176470588234\n",
      "Greatest increase in profits: Feb-2012 1926159\n",
      "Greatest decrease in profits: Sep-2013 -2196167\n"
     ]
    }
   ],
   "source": [
    "print(\"Financial Analysis\")\n",
    "print(\"-------------------\")\n",
    "print(\"Total months :\", (xenox))\n",
    "print(f\"Net total is : {net_total}$\")\n",
    "print(f\"What was the average change:\", (avr_change))\n",
    "print(f\"Greatest increase in profits:\", (max_month),(max_increase))\n",
    "print(f\"Greatest decrease in profits:\", (lowest_month),max_decrease)"
   ]
  },
  {
   "cell_type": "code",
   "execution_count": null,
   "metadata": {},
   "outputs": [],
   "source": []
  }
 ],
 "metadata": {
  "kernelspec": {
   "display_name": "Python 3",
   "language": "python",
   "name": "python3"
  },
  "language_info": {
   "codemirror_mode": {
    "name": "ipython",
    "version": 3
   },
   "file_extension": ".py",
   "mimetype": "text/x-python",
   "name": "python",
   "nbconvert_exporter": "python",
   "pygments_lexer": "ipython3",
   "version": "3.8.5"
  }
 },
 "nbformat": 4,
 "nbformat_minor": 4
}
